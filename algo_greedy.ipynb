{
 "cells": [
  {
   "cell_type": "markdown",
   "metadata": {},
   "source": [
    "# Greedy Algoritms\n",
    "\n",
    "These problems are generally solved in following ways:\n",
    "* Sorting a list(array)\n",
    "* Using a priority queue(heap)\n",
    "\n",
    "> Some common problems.\n",
    "\n",
    "1. Knapsack Problem (fractional)\n",
    "    * Time Complexity: O(nlog(n)), for sorting \n",
    "    * Space Complexity: O(n), can be optimzed to O(1)\n",
    "1. Job Sequencing with deadlines\n",
    "1. Optimal Merge Pattern\n",
    "    * Huffman Coding\n",
    "1. Minimum Spanning Tree\n",
    "    * Prims\n",
    "    * Kruskal\n",
    "1. Dijkstra's Algorithm"
   ]
  },
  {
   "cell_type": "code",
   "execution_count": 2,
   "metadata": {},
   "outputs": [
    {
     "name": "stdout",
     "output_type": "stream",
     "text": [
      "[(10, 5), (6, 3), (2, 2), (4, 4), (4, 8)]\n"
     ]
    }
   ],
   "source": [
    "\"\"\"Fractional Knapsack Problem\"\"\"\n",
    "def fractional_knapsack(capacity, weights, values):\n",
    "    \"\"\"\n",
    "    Args:\n",
    "        capacity (int): maximum capacity of knapsack\n",
    "        weights (list): list of weights\n",
    "        values (list): list of values\n",
    "    Returns:\n",
    "        (int): maximum value of knapsack\n",
    "    \"\"\"\n",
    "    # sort items by value/weight ratio\n",
    "    items = sorted(zip(values, weights), key=lambda x: x[0]/x[1], reverse=True)\n",
    "    value = 0.0\n",
    "    weight = 0.0\n",
    "    for v, w in items:\n",
    "        if weight + w <= capacity: # can fit in knapsack\n",
    "            value += v\n",
    "            weight += w\n",
    "        elif weight < capacity: # can't fit in knapsack, but can fit in knapsack partially\n",
    "            value += v * (capacity - weight) / w\n",
    "            weight = capacity\n",
    "    return value\n",
    "\n",
    "\"\"\"Input\"\"\"\n",
    "capacity = 20\n",
    "weights = [8, 2, 5, 4, 3]\n",
    "values = [4, 2, 10, 4, 6]\n",
    "fractional_knapsack(capacity, weights, values)\n",
    "\n"
   ]
  },
  {
   "cell_type": "code",
   "execution_count": 7,
   "metadata": {},
   "outputs": [
    {
     "data": {
      "text/plain": [
       "[70, 40, 0, 0, 30]"
      ]
     },
     "execution_count": 7,
     "metadata": {},
     "output_type": "execute_result"
    }
   ],
   "source": [
    "\"\"\"Job Sequencing with deadlines Problem\"\"\"\n",
    "def job_sequencing(prfits, deadlines):\n",
    "    \"\"\"\n",
    "    Args:\n",
    "        prfits (list): list of profits\n",
    "        deadlines (list): list of deadlines\n",
    "    Returns:\n",
    "        (list): list of jobs in order of execution\n",
    "    \"\"\"\n",
    "    # sort jobs by profit\n",
    "    jobs = sorted(zip(prfits, deadlines), key=lambda x: x[0], reverse=True)\n",
    "    total_slots = max(deadlines)\n",
    "    slots = [0] * total_slots\n",
    "    for p, d in jobs:\n",
    "        for i in range(d-1, -1, -1): # iterate backwards through slots\n",
    "            if slots[i] < p:\n",
    "                slots[i] = p\n",
    "                break\n",
    "    return slots    \n",
    "\"\"\"Input\"\"\"\n",
    "deadlines = [1, 2, 2, 1, 5]\n",
    "profits = [50, 10, 40, 70, 30]\n",
    "job_sequencing(profits, deadlines)"
   ]
  },
  {
   "cell_type": "code",
   "execution_count": 1,
   "metadata": {},
   "outputs": [
    {
     "data": {
      "text/plain": [
       "68"
      ]
     },
     "execution_count": 1,
     "metadata": {},
     "output_type": "execute_result"
    }
   ],
   "source": [
    "\"\"\"Optimal Merge Pattern\"\"\"\n",
    "def optimal_merge_pattern(files):\n",
    "    \"\"\"\n",
    "    Args:\n",
    "        files (list): list of files\n",
    "    Returns:\n",
    "        (int): minimum cost of merging files\n",
    "    \"\"\"\n",
    "    cost = 0\n",
    "    # create a heap\n",
    "    import heapq\n",
    "    heap = []\n",
    "    for f in files:\n",
    "        heapq.heappush(heap, f)\n",
    "    while len(heap) > 1:\n",
    "        f1 = heapq.heappop(heap)\n",
    "        f2 = heapq.heappop(heap)\n",
    "        cost += f1 + f2\n",
    "        heapq.heappush(heap, f1 + f2)\n",
    "    return cost\n",
    "\n",
    "\"\"\"Input\"\"\"\n",
    "files = [2, 3, 4, 5, 6, 7]\n",
    "optimal_merge_pattern(files)"
   ]
  },
  {
   "cell_type": "markdown",
   "metadata": {},
   "source": [
    "## Minimum Spanning Tree\n",
    "\n",
    "![Graph](https://programming.vip/images/doc/d1e93961bff29ba8c38ee396ee3407b1.jpg)\n",
    "\n",
    "Graph is represented as G = (V, E) where \n",
    "\n",
    "* V is the set of vertices {1,2,3,4,5}, and \n",
    "* E is the set of edges {(1,2),(1,3),(1,5),(2,4),(3,5),(4,5)}.\n",
    "\n",
    "A spanning tree is a subgraph of G that is a tree and connects all the vertices together.\n",
    "* Contains all vertices of graph\n",
    "* And n-1 edges, n is number of vertices\n",
    "* No cycles\n",
    "\n",
    "No of spanning trees for a graph with n vertices is __|E| C (n-1) - no of cycles__\n",
    "\n",
    "A minimum (cost) spanning tree is a spanning tree with the minimum total weight of all the edges.\n",
    "It can be calculated using following algorithm:\n",
    "* Prim's algorithm (always maintain a tree)\n",
    "  * Select a minimum cost edge.\n",
    "  * Select minimum edges but it should be connected to the already selected vertices.\n",
    "  * Repeat until all vertices are connected.\n",
    "  * Time Complexity: O(E log V)\n",
    "  * Faster for dense graphs.\n",
    "* Kruskal's algorithm (always select a minimum cost edge)\n",
    "  * Always select a minimum cost edge if it doesn't create a cycle.\n",
    "  * Repeat until all vertices are connected.\n",
    "  * Time Complexity: O(|E| |V|), can be optimized to O(|V| log |E|) using Min Heap.\n",
    "  * Faster for sparse graphs."
   ]
  },
  {
   "cell_type": "code",
   "execution_count": 11,
   "metadata": {},
   "outputs": [],
   "source": [
    "\"\"\"Prims Algorithm\"\"\"\n",
    "def prims_algorithm(vertices, edges):\n",
    "    \"\"\"\n",
    "    Args:\n",
    "        vertices (list): list of vertices\n",
    "        edges (list): list of edges with weights (src, dest, weight)\n",
    "    Returns:\n",
    "        (list): list of edges with minimum weight\n",
    "    \"\"\"\n",
    "    # WILL DO THIS LATER\n"
   ]
  },
  {
   "cell_type": "code",
   "execution_count": 5,
   "metadata": {},
   "outputs": [],
   "source": [
    "\"\"\"Kruskal Algorithm\"\"\"\n",
    "def kruskal_algorithm(vertices, edges):\n",
    "    \"\"\"\n",
    "    Args:\n",
    "        vertices (list): list of vertices\n",
    "        edges (list): list of edges with weights (src, dest, weight)\n",
    "    Returns:\n",
    "        (list): list of edges with minimum weight\n",
    "    \"\"\"\n",
    "    # create a heap\n",
    "    import heapq\n",
    "    heap = []\n",
    "    for e in edges:\n",
    "        heapq.heappush(heap, e)\n",
    "    # initialize minimum spanning tree\n",
    "    mst = []\n",
    "    # initialize visited vertices\n",
    "    visited = set()\n",
    "    # pick smallest edge and add to mst\n",
    "    while len(mst) < len(vertices) - 1 and len(heap) > 0:\n",
    "        e = heapq.heappop(heap)\n",
    "        if e[0] not in visited or e[1] not in visited:\n",
    "            mst.append(e)\n",
    "            visited.add(e[0])\n",
    "            visited.add(e[1])\n",
    "    return mst"
   ]
  },
  {
   "cell_type": "code",
   "execution_count": 12,
   "metadata": {},
   "outputs": [
    {
     "name": "stdout",
     "output_type": "stream",
     "text": [
      "Prims: None\n",
      "Kruskal: [(1, 2, 1), (1, 3, 2), (2, 4, 4), (3, 5, 6), (4, 6, 8)]\n"
     ]
    }
   ],
   "source": [
    "\"\"\"Input\"\"\"\n",
    "vertices = [1, 2, 3, 4, 5, 6]\n",
    "edges = [(1, 2, 1), (1, 3, 2), (2, 3, 3), (2, 4, 4), (3, 4, 5), (3, 5, 6), (4, 5, 7), (4, 6, 8), (5, 6, 9)]\n",
    "prims = prims_algorithm(vertices, edges)\n",
    "kruskal = kruskal_algorithm(vertices, edges)\n",
    "print(\"Prims:\", prims)\n",
    "print(\"Kruskal:\", kruskal)"
   ]
  },
  {
   "cell_type": "markdown",
   "metadata": {},
   "source": [
    "## Dijkstra's Algorithm\n",
    "Single source shortest path algorithm, finds shortest path from a source vertex to all other vertices in a graph.\n",
    "> Time Complexity: O(VlogV + ElogV)\n",
    "\n",
    "> Space Complexity: O(V)\n",
    "\n",
    "__Relaxation__\n",
    "```\n",
    "if dist[u] > dist[v] + w(u,v)\n",
    "    dist[u] = dist[v] + w(u,v)\n",
    "    prev[u] = v\n",
    "```\n",
    "__Procedure__\n",
    "* Select source vertex and initialize its distance to 0.\n",
    "* Initialize immediate neighbors of source vertex with respective weights.\n",
    "* Initialize all other vertices with infinite distance.\n",
    "* From source, visit the shortest neighbor and relax all the edges connected to it.\n",
    "* Repeat until all vertices are relaxed.\n",
    "\n",
    "__Advantages__\n",
    "* Works for both directed and undirected graphs.\n",
    "* May work with negative edge weights.\n",
    "\n",
    "__Drawbacks__\n",
    "* May not always work for graphs with negative edge weights.\n",
    "* If there is a negative weight cycle, then algorithm will not terminate.\n"
   ]
  },
  {
   "cell_type": "code",
   "execution_count": 16,
   "metadata": {},
   "outputs": [],
   "source": [
    "\n",
    "\"\"\"Dijkstra's Algorithm\"\"\"\n",
    "import math\n",
    "\n",
    "\n",
    "def dijkstra_algorithm(vertices, edges, src):\n",
    "    \"\"\"\n",
    "    Args:\n",
    "        vertices (list): list of vertices\n",
    "        edges (list): list of edges with weights (src, dest, weight)\n",
    "        src (int): source vertex\n",
    "    Returns:\n",
    "        (list): list of edges with minimum weight\n",
    "    \"\"\"\n",
    "    # WILL DO THIS LATER\n",
    "    \n",
    "    "
   ]
  },
  {
   "cell_type": "code",
   "execution_count": 17,
   "metadata": {},
   "outputs": [
    {
     "data": {
      "text/plain": [
       "{1: 0, 2: 0, 3: 0, 4: 0, 5: 0, 6: 0}"
      ]
     },
     "execution_count": 17,
     "metadata": {},
     "output_type": "execute_result"
    }
   ],
   "source": [
    "\"\"\"Input\"\"\"\n",
    "dijkstra_algorithm(vertices, edges, 1)"
   ]
  }
 ],
 "metadata": {
  "kernelspec": {
   "display_name": "Python 3.10.4 64-bit",
   "language": "python",
   "name": "python3"
  },
  "language_info": {
   "codemirror_mode": {
    "name": "ipython",
    "version": 3
   },
   "file_extension": ".py",
   "mimetype": "text/x-python",
   "name": "python",
   "nbconvert_exporter": "python",
   "pygments_lexer": "ipython3",
   "version": "3.10.4"
  },
  "orig_nbformat": 4,
  "vscode": {
   "interpreter": {
    "hash": "916dbcbb3f70747c44a77c7bcd40155683ae19c65e1c03b4aa3499c5328201f1"
   }
  }
 },
 "nbformat": 4,
 "nbformat_minor": 2
}
