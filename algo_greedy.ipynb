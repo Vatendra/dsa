{
 "cells": [
  {
   "cell_type": "markdown",
   "metadata": {},
   "source": [
    "# Greedy Algoritms\n",
    "> Template to solve greedy algorithm questions.\n",
    "\n",
    "1. Knapsack Problem (fractional)\n",
    "1. Job Sequencing with deadlines\n",
    "1. Optimal Merge Pattern\n",
    "    * Huffman Coding\n",
    "1. Minimum Spanning Tree\n",
    "    * Prims\n",
    "    * Kruskal\n",
    "1. Dijkstra's Algorithm"
   ]
  }
 ],
 "metadata": {
  "kernelspec": {
   "display_name": "Python 3.10.4 64-bit",
   "language": "python",
   "name": "python3"
  },
  "language_info": {
   "name": "python",
   "version": "3.10.4"
  },
  "orig_nbformat": 4,
  "vscode": {
   "interpreter": {
    "hash": "916dbcbb3f70747c44a77c7bcd40155683ae19c65e1c03b4aa3499c5328201f1"
   }
  }
 },
 "nbformat": 4,
 "nbformat_minor": 2
}
